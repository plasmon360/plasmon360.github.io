{
 "cells": [
  {
   "cell_type": "markdown",
   "metadata": {},
   "source": [
    "The real and imaginary part of dielectric permittivity of the metals is important to simulate the optical properties of metal films and nanoparticles. Permittivity data is obtained experimentally by ellipsometry and is fitted with analytical models. The most common model for fitting experimental data is with Drude-Lorentz model shown below. \n",
    "\n",
    "$$\\epsilon(\\omega)=1-\\frac{f_1\\omega_p^2}{(\\omega^2+i\\Gamma_1\\omega)}+\\sum_{j=2}^{n}\\frac{f_j\\omega_p^2}{(\\omega_{o,j}^2-\\omega^2-i\\Gamma_j\\omega)}$$\n",
    "\n",
    "The first term is the Drude part. It represents the response of electron in the Fermi sea/conduction band when it sees external oscillating electric field (these transitions are called as intraband transitions). The Drude term has the plasma frequency ($\\omega_p$, oscillator strengh ($f_1$) and damping term ($\\Gamma_1$). The rest of the terms represent the Lorentz oscillators with specific resonance frequencies ($\\omega_{o,j}$), oscillator strengths ($f_{j}$) and damping terms($\\Gamma_j$) associated with them. They represent electron excitation from one band to another following an external oscillating electric field at certain resonance frequencies (these transitions are called as interband transitions).\n",
    "\n",
    "Just out of curiosity, I wanted to do this fitting by myself for a long time now. So I attempted to fit the data with he commonly used fitting method, the least squares method, which involves minimization of the square of the error between the model and experimental data, while changing the parameters.  However I was not getting good fitting results even with several attempts, this may be due to the following problems with this method: \n",
    "- The fits were very sensitive to the initial guess values of the parameters (oscillator strengths, damping terms, etc). \n",
    "- The method is a local minimization technique. What that means is that the least square algorithm (Levenberg - Marquardt ) is changing the parameters in parameter space and searching for the minimum of sum of squares of difference between model and data. While doing this it can get trapped in a local minimum and report the parameters at that point as if it was as global minimum.\n",
    "For more information on the problems of least-square method. See the last section of the article <a href =\"http://www.itl.nist.gov/div898/handbook/pmd/section1/pmd141.htm\">here</a>.\n",
    "\n",
    "To avoid these problems, researchers use global optimization techniques. See, <a href =\"https://www.osapublishing.org/ao/abstract.cfm?uri=ao-37-22-5271 \"> Rakic et al.</a>  and  <a href =\" http://iopscience.iop.org/article/10.1088/1464-4258/2/5/318/meta\"> Djurisic et al.</a>. Rakic et al. used simulated annealing method , whic is a global optimization method and does a great job fitting experimental data. I wanted to use <a href=\"http://docs.scipy.org/doc/scipy-0.14.0/reference/generated/scipy.optimize.anneal.html\">Scipy's simulated annealing method</a> to fit the dielectric functions, but found that simulated annealing algorithm is deprecated in scipy 0.14 and they suggest using basin-hopping or differential evolution (DE) algorithms instead. \n",
    "\n",
    "I gave DE method a try because I didnot see any research article using DE algorithm for fitting dielectric data. If any of the readers find an article that uses DE to fit complex dielectric function, please point me to the article.  DE algorithm is a stochastic method that does not involve finding a gradient but rather involves mutation and recombination of random population of solutions. I dont completely understand the guts of the algorithm, but you can find more information <a href=\"https://en.wikipedia.org/wiki/Differential_evolution\">here</a>. \n",
    "\n",
    "Below is my code of how I do the fitting of gold dielectric function with python and lmfit module. lmfit is a python module that provides a better and convinient fitting and optimization interface for Scipy optimize/minimze methods. The default minimization technique for lmfit is least square (Levenberg-marquardt) methood, so it needs to be changed to differential evolution. \n",
    "\n",
    "You can download my ipython notebook <a href=\"https://gist.github.com/plasmon360/ccf97d5d600ca4a3197ffa0e3d6cbe0b\"> here</a> \n",
    "\n",
    "You can use this method for fitting other dielectric data, but have to tweak the bounds a little bit. If you use my implementation for your fitting your experimental data, please let me know or even better cite it as:\n",
    "\n",
    "Juluri B.K. \"Fitting Complex Metal Dielectric Functions with Differential Evolution Method\". <a href=\"http://juluribk.com/?p=1597\">http://juluribk.com/?p=1597</a>.\n",
    "\n",
    "\n",
    "\n"
   ]
  },
  {
   "cell_type": "markdown",
   "metadata": {},
   "source": [
    "In the following code, I get the gold's experimental dielectric data from <a href=\"http://refractiveindex.info/\">Refractiveindex.info</a>. "
   ]
  },
  {
   "cell_type": "code",
   "execution_count": 12,
   "metadata": {
    "collapsed": false,
    "jupyter": {
     "outputs_hidden": false
    }
   },
   "outputs": [
    {
     "name": "stdout",
     "output_type": "stream",
     "text": [
      "Keys in the data: ['REFERENCES', 'DATA']\n",
      "Reference :  S. Babar and J. H. Weaver. Optical constants of Cu, Ag, and Au revisited, <a href=\"http://dx.doi.org/10.1364/AO.54.000477\"><i>Appl. Opt.</i> <b>54</b>, 477-481 (2015)</a>\n"
     ]
    }
   ],
   "source": [
    "import urllib2 # To make a request and gather data,\n",
    "\n",
    "# Query the website\n",
    "\n",
    "response = urllib2.urlopen('http://refractiveindex.info/database/main/Au/Babar.yml')\n",
    "\n",
    "# Alternative Experimental data sources\n",
    "# response = urllib2.urlopen('http://refractiveindex.info/database/main/Au/McPeak.yml')\n",
    "# response = urllib2.urlopen('http://refractiveindex.info/database/main/Au/Lemarchand-3.96nm.yml')\n",
    "\n",
    "# Read the response. Response is in YAML format. Will use PyYAML parser,\n",
    "yaml_data = response.read()\n",
    "import yaml\n",
    "data =  yaml.load(yaml_data)\n",
    "\n",
    "# Lets see what is inside the data,\n",
    "print\"Keys in the data:\" , data.keys() \n",
    "\n",
    "# Lets print the reference for this data,\n",
    "print \"Reference : \", data['REFERENCES']\n",
    "\n",
    "if 'COMMENTS' in data.keys():\n",
    "    print \"Comments : \", data['COMMENTS']\n",
    "\n",
    "# Data seems to be stored in 'DATA', if needed uncomment the following line\n",
    "#print(data['DATA'])"
   ]
  },
  {
   "cell_type": "markdown",
   "metadata": {},
   "source": [
    "Data string contains real and imaginary part of the refractive index (not dielectric permitivitty). I clean up the real and imaginary part of the refractive data and convert them to dielectric permittivities"
   ]
  },
  {
   "cell_type": "code",
   "execution_count": 14,
   "metadata": {
    "collapsed": false,
    "jupyter": {
     "outputs_hidden": false
    }
   },
   "outputs": [],
   "source": [
    "# Some clean up needed. The required data string holding wavelength, n and k, is in the form of dictionary item \n",
    "# with key 'data', which is inside a list\\n\",\n",
    "\n",
    "cleaned_nk = data['DATA'][0]['data'] \n",
    "\n",
    "# Use StringIO to convert String buffer as a file like class\\n\",\n",
    "import numpy as np\n",
    "from StringIO import StringIO\n",
    "\n",
    "# Read the data into as numpy vectors\\n\",\n",
    "wave_micron, n, k  = np.genfromtxt(StringIO(cleaned_nk), unpack=True)\n",
    "\n",
    "wave_exp = wave_micron * 1000 # Convert wavelength from microns to nm\n",
    "eps_exp = (n + 1j* k)**2  # Convert n,k into dielectric function\n",
    "\n",
    "# Lets convert wavelengh in nm to eV and assign it to 'w' \n",
    "h = 4.135667516E-15 # plancks's constant in eV-sec\n",
    "c = 299792458E9 # speed of light in vacuum in nm/sec\n",
    "w_exp = h*c/wave_exp;  # Convert wavleength in nm to eV"
   ]
  },
  {
   "cell_type": "markdown",
   "metadata": {},
   "source": [
    "I define a function that will plot experimental dielectric data. It will also plot fitted models if the data is provided."
   ]
  },
  {
   "cell_type": "code",
   "execution_count": 6,
   "metadata": {
    "collapsed": false,
    "jupyter": {
     "outputs_hidden": false
    }
   },
   "outputs": [],
   "source": [
    "\n",
    "def plot_fit(w_exp,eps_exp, w_for_fit = None,eps_fit_result = None):\n",
    "    '''\n",
    "    This functions plots the experimental dielectric function as function of wavelength.\n",
    "    If fitted model data is available it will also plot it\n",
    "    '''\n",
    "\n",
    "    %matplotlib inline\n",
    "    import matplotlib.pyplot as plt\n",
    "    from matplotlib.ticker import ScalarFormatter\n",
    "    from matplotlib import rcParams\n",
    "    \n",
    "    rcParams.update({'font.size': 18}) # Increase the font size\n",
    "    rcParams['mathtext.default']='regular' # make the mathtext the same size of normal text for better readbility\n",
    "    \n",
    "    # Plot the real part of the dielectric function\n",
    "    fig,ax = plt.subplots(1,2,figsize = (12,5))\n",
    "    ax[0].scatter(w_exp, abs(eps_exp.real), marker = 'o',facecolor = 'none', edgecolor = 'g')\n",
    "    \n",
    "    ax[0].set_xlabel('Energy (eV)')\n",
    "    ax[0].set_ylabel(r'|$\\epsilon^\\prime$|')\n",
    "        \n",
    "\n",
    "    # Plot the imaginary part of the dielectric function\n",
    "    ax[1].scatter(w_exp, eps_exp.imag, marker = 'o',facecolor = 'none', edgecolor = 'g')\n",
    "    ax[1].set_ylabel(r'$\\epsilon ^ {\\prime \\prime}$')\n",
    "    ax[1].set_xlabel('Energy (eV)')\n",
    "    \n",
    "    # If the fit data is available we will plot it with the actual plots\n",
    "    if (w_for_fit is not None and eps_fit_result is not None):\n",
    "        ax[0].plot(w_for_fit, abs(eps_fit_result.real),'-r')\n",
    "        ax[1].plot(w_for_fit,eps_fit_result.imag,'-r')\n",
    "        \n",
    "    \n",
    "    # Set the grid, log and axis formatter\n",
    "    for axis in ax:\n",
    "        axis.grid('on')\n",
    "        axis.set_xscale('log')\n",
    "        axis.set_yscale('log')\n",
    "        axis.set_xlim([min(w_exp),max(w_exp)])\n",
    "        for x_yaxis in [axis.xaxis, axis.yaxis]:\n",
    "            x_yaxis.set_major_formatter(ScalarFormatter())\n",
    "            \n",
    "    fig.tight_layout()\n",
    " \n"
   ]
  },
  {
   "cell_type": "markdown",
   "metadata": {},
   "source": [
    "Lets plot the experimental data to see the data. Data seems to be from 0.1ev to 10eV. There seems to be three transitions (are all of them interband?) above 1eV"
   ]
  },
  {
   "cell_type": "code",
   "execution_count": 7,
   "metadata": {
    "collapsed": false,
    "jupyter": {
     "outputs_hidden": false
    },
    "scrolled": true
   },
   "outputs": [
    {
     "data": {
      "image/png": "[encoded data removed]",
      "text/plain": [
       "<matplotlib.figure.Figure at 0x1629d208>"
      ]
     },
     "metadata": {},
     "output_type": "display_data"
    }
   ],
   "source": [
    "plot_fit(w_exp,eps_exp)"
   ]
  },
  {
   "cell_type": "markdown",
   "metadata": {},
   "source": [
    "Lets define a Drude-Lorentz model. This will be the model we will try to fit the experimental data with. The model has one Drude term and five Lorentz oscillators"
   ]
  },
  {
   "cell_type": "code",
   "execution_count": 15,
   "metadata": {
    "collapsed": true,
    "jupyter": {
     "outputs_hidden": true
    }
   },
   "outputs": [],
   "source": [
    "def drude_lorentz_model(params, w):\n",
    "    '''\n",
    "    This is functional representation of drude lorentz model with the first term being Drude\n",
    "    and the rest terms being lorentz oscillators\n",
    "    '''\n",
    "    \n",
    "    # Get the plasma frequency\n",
    "    omega_p = params['Omega_p'].value\n",
    "   \n",
    "    \n",
    "    # Get the Drude parms\n",
    "    f0 = params['f0'].value\n",
    "    gamma0 = params['Gamma0'].value\n",
    "\n",
    "    # Get the first Lorentz term parameters,\n",
    "    f1 = params['f1'].value\n",
    "    gamma1 = params['Gamma1'].value\n",
    "    omega1 = params['Omega1'].value\n",
    "    \n",
    "    # Get the second Lorentz term parameters\n",
    "    f2 = params['f2'].value\n",
    "    gamma2 = params['Gamma2'].value\n",
    "    omega2 = params['Omega2'].value\n",
    "    \n",
    "    # Get the third Lorentz term parameters\n",
    "    f3 = params['f3'].value\n",
    "    gamma3 = params['Gamma3'].value\n",
    "    omega3 = params['Omega3'].value\n",
    "\n",
    "    # Get the fourth Lorentz term parameters\n",
    "    f4 = params['f4'].value\n",
    "    gamma4 = params['Gamma4'].value\n",
    "    omega4 = params['Omega4'].value\n",
    "    \n",
    "    # Get the fifth Lorentz term parameters\n",
    "    f5 = params['f5'].value\n",
    "    gamma5 = params['Gamma5'].value\n",
    "    omega5 = params['Omega5'].value\n",
    "\n",
    "    # Drude component\n",
    "    epsilon_D = 1 - (f0 * omega_p ** 2 / (w ** 2 + 1j * (gamma0) * w))\n",
    "\n",
    "    # Lorentz first oscillator\n",
    "    epsilon_L1 = (f1 * omega_p ** 2) / (omega1 ** 2 - w ** 2 - 1j * gamma1 * w)\n",
    "\n",
    "    # Lorentz SEcond oscillator \n",
    "    epsilon_L2 = (f2 * omega_p ** 2) / (omega2 ** 2 - w ** 2 - 1j * gamma2 * w)\n",
    "\n",
    "    # Lorentz Third oscillator \n",
    "    epsilon_L3 = (f3 * omega_p ** 2) / (omega3 ** 2 - w ** 2 - 1j * gamma3 * w)\n",
    "    \n",
    "    # Lorentz Fourth oscillator \n",
    "    epsilon_L4 = (f4 * omega_p ** 2) / (omega4 ** 2 - w ** 2 - 1j * gamma4 * w)\n",
    "    \n",
    "    # Lorentz Fifth oscillator \n",
    "    epsilon_L5 = (f5 * omega_p ** 2) / (omega5 ** 2 - w ** 2 - 1j * gamma5 * w)\n",
    "\n",
    "    # Sum all the terms\n",
    "    epsilon = epsilon_D + epsilon_L1 +epsilon_L2 +  epsilon_L3 +  epsilon_L4 +  epsilon_L5\n",
    "\n",
    "    return epsilon"
   ]
  },
  {
   "cell_type": "markdown",
   "metadata": {},
   "source": [
    "Lets define a callable function which returns a residual. This function will be used by our minimization algorithm. It is important to note how the residual is calculated as it is little bit different than normal fitting examples shown in lmfit, because we are minimizing complex data."
   ]
  },
  {
   "cell_type": "code",
   "execution_count": 9,
   "metadata": {
    "collapsed": true,
    "jupyter": {
     "outputs_hidden": true
    }
   },
   "outputs": [],
   "source": [
    "def complex_residuals(params, model, w, exp_data):\n",
    "    '''\n",
    "    This is the residual function that we will try to minimize.\n",
    "    It takes the params dict that has the parameters that need to be found. \n",
    "   '''\n",
    "    if model == 'Drude':\n",
    "        # Our Drude model\n",
    "        epsilon= drude_model(params,w)\n",
    "    elif model == 'Drude-Lorentz':\n",
    "        # Our Drude model\n",
    "        epsilon= drude_lorentz_model(params,w)\n",
    "        \n",
    "    # Lets calculate our complex residual as the way it is done in page 5264\n",
    "    # Rakic, a D.,et al (1998). Optical properties of metallic films for vertical-cavity optoelectronic devices. Applied Optics, 37(22), 5271–83.\n",
    "    residual = (abs((epsilon.real - exp_data.real)/exp_data.real) + abs((epsilon.imag - exp_data.imag)/exp_data.imag))**2\n",
    "    \n",
    "    # if the residual is being used for least square optimizaiton we should have used\n",
    "    # residual = (abs((epsilon.real - exp_data.real)/exp_data.real) + abs((epsilon.imag - exp_data.imag)/exp_data.imag))\n",
    "    # least square method does the square of the residual in its algorithm. see http://docs.scipy.org/doc/scipy-0.14.0/reference/generated/scipy.optimize.leastsq.html\n",
    "\n",
    "    return residual"
   ]
  },
  {
   "cell_type": "markdown",
   "metadata": {},
   "source": [
    "This is where differential evolution will be used to make a fit to the data. Differential evolution algorithm requires bounds for each parameter. I gave resonable bounds based on looking at the experimental data and hope to see what the algorithm does. It seem to do a resonable job and much better job than least squares method. **The fitting results will vary a little bit each time we run this cell. So run the cell couple of times to see if things change for better.**"
   ]
  },
  {
   "cell_type": "code",
   "execution_count": 17,
   "metadata": {
    "collapsed": false,
    "jupyter": {
     "outputs_hidden": false
    }
   },
   "outputs": [
    {
     "name": "stdout",
     "output_type": "stream",
     "text": [
      "differential_evolution step 1: f(x)= 182.623\n",
      "differential_evolution step 2: f(x)= 182.623\n",
      "differential_evolution step 3: f(x)= 182.623\n",
      "differential_evolution step 4: f(x)= 50.6673\n",
      "differential_evolution step 5: f(x)= 20.0853\n",
      "differential_evolution step 6: f(x)= 20.0853\n",
      "differential_evolution step 7: f(x)= 20.0853\n",
      "differential_evolution step 8: f(x)= 20.0853\n",
      "differential_evolution step 9: f(x)= 15.1101\n",
      "differential_evolution step 10: f(x)= 15.1101\n",
      "differential_evolution step 11: f(x)= 11.3224\n",
      "differential_evolution step 12: f(x)= 8.07834\n",
      "differential_evolution step 13: f(x)= 3.05303\n",
      "differential_evolution step 14: f(x)= 3.05303\n",
      "differential_evolution step 15: f(x)= 2.4401\n",
      "differential_evolution step 16: f(x)= 2.4401\n",
      "differential_evolution step 17: f(x)= 2.4401\n",
      "differential_evolution step 18: f(x)= 2.4401\n",
      "differential_evolution step 19: f(x)= 2.31825\n",
      "differential_evolution step 20: f(x)= 2.26033\n",
      "differential_evolution step 21: f(x)= 2.09022\n",
      "differential_evolution step 22: f(x)= 2.00165\n",
      "differential_evolution step 23: f(x)= 1.58789\n",
      "differential_evolution step 24: f(x)= 1.57863\n",
      "differential_evolution step 25: f(x)= 1.57519\n",
      "differential_evolution step 26: f(x)= 1.56108\n",
      "differential_evolution step 27: f(x)= 1.51249\n",
      "differential_evolution step 28: f(x)= 1.47025\n",
      "differential_evolution step 29: f(x)= 1.43602\n",
      "differential_evolution step 30: f(x)= 1.43602\n",
      "differential_evolution step 31: f(x)= 1.43602\n",
      "differential_evolution step 32: f(x)= 1.43602\n",
      "differential_evolution step 33: f(x)= 1.37272\n",
      "differential_evolution step 34: f(x)= 1.37272\n",
      "differential_evolution step 35: f(x)= 1.36562\n",
      "differential_evolution step 36: f(x)= 1.32582\n",
      "differential_evolution step 37: f(x)= 1.32201\n",
      "differential_evolution step 38: f(x)= 1.31609\n",
      "differential_evolution step 39: f(x)= 1.29776\n",
      "differential_evolution step 40: f(x)= 1.28905\n",
      "differential_evolution step 41: f(x)= 1.28905\n",
      "differential_evolution step 42: f(x)= 1.28905\n",
      "differential_evolution step 43: f(x)= 1.27764\n",
      "differential_evolution step 44: f(x)= 1.27764\n",
      "differential_evolution step 45: f(x)= 1.27625\n",
      "differential_evolution step 46: f(x)= 1.26961\n",
      "differential_evolution step 47: f(x)= 1.25183\n",
      "differential_evolution step 48: f(x)= 1.24244\n",
      "differential_evolution step 49: f(x)= 1.23059\n",
      "differential_evolution step 50: f(x)= 1.22122\n",
      "differential_evolution step 51: f(x)= 1.214\n",
      "differential_evolution step 52: f(x)= 1.21086\n",
      "differential_evolution step 53: f(x)= 1.20955\n",
      "differential_evolution step 54: f(x)= 1.20823\n",
      "differential_evolution step 55: f(x)= 1.20721\n",
      "differential_evolution step 56: f(x)= 1.20556\n",
      "differential_evolution step 57: f(x)= 1.20399\n",
      "differential_evolution step 58: f(x)= 1.20319\n",
      "differential_evolution step 59: f(x)= 1.19969\n",
      "differential_evolution step 60: f(x)= 1.19968\n",
      "differential_evolution step 61: f(x)= 1.1984\n",
      "differential_evolution step 62: f(x)= 1.19704\n",
      "differential_evolution step 63: f(x)= 1.19592\n",
      "differential_evolution step 64: f(x)= 1.19556\n",
      "differential_evolution step 65: f(x)= 1.19137\n",
      "differential_evolution step 66: f(x)= 1.18851\n",
      "differential_evolution step 67: f(x)= 1.18354\n",
      "differential_evolution step 68: f(x)= 1.18286\n",
      "Print exited successfully? :   True\n",
      "Termination Status:  Optimization terminated successfully.\n",
      "[[Fit Statistics]]\n",
      "    # function evals   = 66984\n",
      "    # data points      = 69\n",
      "    # variables        = 18\n",
      "    chi-square         = 1.137\n",
      "    reduced chi-square = 0.022\n",
      "    Akaike info crit   = -226.448\n",
      "    Bayesian info crit = -186.234\n",
      "[[Variables]]\n",
      "    Omega_p:   9.97441670 (init= 9)\n",
      "    f0:        0.68683341 (init= 0.5)\n",
      "    Gamma0:    0.01987236 (init= 0.03)\n",
      "    f1:        0.98709783 (init= 0.5)\n",
      "    Gamma1:    1.4876e-05 (init= 0.5)\n",
      "    Omega1:    8.02150038 (init= 5)\n",
      "    f2:        0.07682351 (init= 0.5)\n",
      "    Gamma2:    0.65934600 (init= 0.5)\n",
      "    Omega2:    2.91927926 (init= 3)\n",
      "    f3:        0.16124225 (init= 0.5)\n",
      "    Gamma3:    1.12448236 (init= 1)\n",
      "    Omega3:    3.70495567 (init= 4)\n",
      "    f4:        0.15690286 (init= 0.5)\n",
      "    Gamma4:    1.18873234 (init= 1)\n",
      "    Omega4:    4.50000000 (init= 5)\n",
      "    f5:        0.23132574 (init= 0.5)\n",
      "    Gamma5:    1.88224399 (init= 1)\n",
      "    Omega5:    5.71650394 (init= 6)\n"
     ]
    },
    {
     "data": {
      "image/png": "[encoded data removed]",
      "text/plain": [
       "<matplotlib.figure.Figure at 0x17827240>"
      ]
     },
     "metadata": {},
     "output_type": "display_data"
    }
   ],
   "source": [
    "# Note that lmfit should be Version > 0.9.0. We will check this\n",
    "import lmfit\n",
    "from distutils.version import StrictVersion\n",
    "assert StrictVersion(lmfit.__version__) > StrictVersion(\"0.9.0\")\n",
    "\n",
    "from lmfit import minimize, Parameters, printfuncs\n",
    "\n",
    "# Choose the model we want to fit it with \n",
    "model = 'Drude-Lorentz'\n",
    "\n",
    "params = Parameters()\n",
    "params.add('Omega_p', value = 9, min = 8.5 , max = 10) # Omega_p has a value in eV, we will add a starting guess here\n",
    "\n",
    "# Drude Term\n",
    "params.add('f0', value=0.5, min = 1E-10, max = 1) # f  has no units,  we will add a starting guess here \n",
    "params.add('Gamma0', value= 0.03 , min = 1E-10, max = 0.1 ) # Gamma is damping term and has units in eV, we will add a starting guess here\n",
    "\n",
    "# Lorentz first Oscillator term\n",
    "params.add('f1', value=0.5, min = 1E-10, max = 1) # f  has no units,  we will add a starting guess here \n",
    "params.add('Gamma1', value= 0.5, min = 1E-10 ,  max = 2) # Gamma is damping term and has units in eV, we will add a starting guess here\n",
    "params.add('Omega1', value = 5 , min = 5 , max = 10) # Omega_o is oscillator central frequency term  and has units in eV. we will add a starting guess here\n",
    "\n",
    "# Lorentz Second Oscillator term\n",
    "params.add('f2', value=0.5, min = 1E-10, max = 1) # f  has no units,  we will add a starting guess here \n",
    "params.add('Gamma2', value= 0.5, min = 0.01,  max = 2 ) # Gamma is damping term and has units in eV, we will add a starting guess here\n",
    "params.add('Omega2', value = 3 , min = 2.5 , max = 3.5) # Omega_o is oscillator central frequency term  and has units in eV. we will add a starting guess here\n",
    "\n",
    "# Lorentz Third Oscillator term\n",
    "params.add('f3', value=0.5, min = 1E-10, max = 1) # f  has no units,  we will add a starting guess here \n",
    "params.add('Gamma3', value= 1, min = 0.01 , max = 2) # Gamma is damping term and has units in eV, we will add a starting guess here\n",
    "params.add('Omega3', value = 4 , min = 3.5, max = 4.5 ) # Omega_o is oscillator central frequency term  and has units in eV. we will add a starting guess here\n",
    "\n",
    "# Lorentz Fourth Oscillator term\n",
    "params.add('f4', value=0.5, min = 1E-10, max = 1) # f  has no units,  we will add a starting guess here \n",
    "params.add('Gamma4', value= 1, min = 0.01 , max = 2) # Gamma is damping term and has units in eV, we will add a starting guess here\n",
    "params.add('Omega4', value = 5 , min = 4.5, max = 5.5 ) # Omega_o is oscillator central frequency term  and has units in eV. we will add a starting guess here\n",
    "\n",
    "# Lorentz Fifth Oscillator term\n",
    "params.add('f5', value=0.5, min = 1E-10, max = 1) # f  has no units,  we will add a starting guess here \n",
    "params.add('Gamma5', value= 1, min = 0.01 , max = 2) # Gamma is damping term and has units in eV, we will add a starting guess here\n",
    "params.add('Omega5', value = 6 , min = 5.5, max = 6.5 ) # Omega_o is oscillator central frequency term  and has units in eV. we will add a starting guess here\n",
    "\n",
    "\n",
    "\n",
    "# Lets fit to all the data.\n",
    "w_for_fit = w_exp\n",
    "eps_for_fit = eps_exp\n",
    "\n",
    "# if we were to fit only a part of the data such as fit only below 2 ev\n",
    "#w_for_fit = w_exp[w_exp<2]\n",
    "#eps_for_fit = eps_exp[w_exp<2]\n",
    "\n",
    "\n",
    "# Call the minimize function with required parameters and use differential evolution as a method \n",
    "minimizer_results = minimize(complex_residuals, params, args=(model, w_for_fit, eps_for_fit), method = 'differential_evolution', strategy='best1bin',\n",
    "                             popsize=50, tol=0.01, mutation=(0, 1), recombination=0.9, seed=None, callback=None, disp=True, polish=True, init='latinhypercube')\n",
    "\n",
    "# If we were to fit ith with least squares methods\n",
    "# minimizer_results = minimize(complex_residuals, params, args=(model, w_for_fit, eps_for_fit), method = 'leastsq')\n",
    "                             \n",
    "#lets see whether the fit exited successfully?\n",
    "print \"Print exited successfully? :  \", minimizer_results.success\n",
    "\n",
    "#lets see the termination status\n",
    "print \"Termination Status: \", minimizer_results.message\n",
    "\n",
    "# lets print the fit report. We dont need lengthy Correlation table\n",
    "printfuncs.report_fit(minimizer_results, show_correl=False)\n",
    "\n",
    "# Caluclate the epsilon based on the fit results\n",
    "eps_fit_result = np.array([drude_lorentz_model(minimizer_results.params, i) for i in w_for_fit])\n",
    "\n",
    "# Lets plot the fit data\n",
    "plot_fit(w_exp,eps_exp, w_for_fit,eps_fit_result)\n"
   ]
  }
 ],
 "metadata": {
  "kernelspec": {
   "display_name": "Python 3",
   "language": "python",
   "name": "python3"
  },
  "language_info": {
   "codemirror_mode": {
    "name": "ipython",
    "version": 3
   },
   "file_extension": ".py",
   "mimetype": "text/x-python",
   "name": "python",
   "nbconvert_exporter": "python",
   "pygments_lexer": "ipython3",
   "version": "3.8.1"
  }
 },
 "nbformat": 4,
 "nbformat_minor": 4
}
